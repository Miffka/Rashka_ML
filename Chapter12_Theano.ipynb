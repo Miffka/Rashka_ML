{
 "cells": [
  {
   "cell_type": "code",
   "execution_count": 1,
   "metadata": {},
   "outputs": [
    {
     "name": "stdout",
     "output_type": "stream",
     "text": [
      "Net input: 2.50\n"
     ]
    }
   ],
   "source": [
    "''' Part one. Intro to Theano '''\n",
    "\n",
    "import theano\n",
    "from theano import tensor as T\n",
    "\n",
    "# initialize\n",
    "x1 = T.scalar()\n",
    "w1 = T.scalar()\n",
    "w0 = T.scalar()\n",
    "z1 = w1 * x1 + w0\n",
    "\n",
    "# compile\n",
    "net_input = theano.function(inputs=[w1, x1, w0],\n",
    "                           outputs=z1)\n",
    "\n",
    "# execute\n",
    "print('Net input: %.2f' % net_input(2.0, 1.0, 0.5))"
   ]
  },
  {
   "cell_type": "code",
   "execution_count": 4,
   "metadata": {},
   "outputs": [
    {
     "name": "stdout",
     "output_type": "stream",
     "text": [
      "float64\n",
      "cpu\n"
     ]
    }
   ],
   "source": [
    "''' Configuring Theano'''\n",
    "\n",
    "print(theano.config.floatX)\n",
    "# float64 - for CPU\n",
    "\n",
    "# Change in current session\n",
    "#theano.config.floatX = 'float32'\n",
    "\n",
    "# OR\n",
    "# Change in command-line terminal\n",
    "# export THEANO_FLAGS=floatX=float32\n",
    "\n",
    "# OR\n",
    "# Change setting only for particular script\n",
    "# THEANO_FLAGS=floatX=float32 python your_script.py\n",
    "\n",
    "print(theano.config.device)\n",
    "# cpu\n",
    "\n",
    "# Change device for particular script\n",
    "# THEANO_FLAGS=device=gpu,floatX=float32 python your_script.py\n",
    "\n",
    "# OR change .theanorc in home directory to make settings permanent\n",
    "# echo -e \"\\n[global]\\nfloatX=float32\\ndevice=gpu\\n\" >> ~/.theanorc"
   ]
  },
  {
   "cell_type": "code",
   "execution_count": 6,
   "metadata": {},
   "outputs": [
    {
     "name": "stdout",
     "output_type": "stream",
     "text": [
      "Column sum:  [2. 4. 6.]\n",
      "Column sum:  [2. 4. 6.]\n",
      "x\n",
      "<TensorType(float64, matrix)>\n"
     ]
    }
   ],
   "source": [
    "import numpy as np\n",
    "\n",
    "# initialize\n",
    "x = T.matrix(name='x')\n",
    "x_sum = T.sum(x, axis=0)\n",
    "\n",
    "# compile\n",
    "calc_sum = theano.function(inputs=[x], outputs=x_sum)\n",
    "\n",
    "# execute (Python list)\n",
    "ary = [[1,2,3], [1,2,3]]\n",
    "print('Column sum: ', calc_sum(ary))\n",
    "\n",
    "# execute (NumPy array)\n",
    "ary = np.array([[1,2,3],[1,2,3]],\n",
    "              dtype=theano.config.floatX)\n",
    "print('Column sum: ', calc_sum(ary))\n",
    "\n",
    "# Access to variable type for a named Tensor - via type() method\n",
    "print(x)\n",
    "print(x.type())"
   ]
  },
  {
   "cell_type": "code",
   "execution_count": 16,
   "metadata": {},
   "outputs": [
    {
     "name": "stdout",
     "output_type": "stream",
     "text": [
      "z0:  [[0.]]\n",
      "z1:  [[6.]]\n",
      "z2:  [[12.]]\n",
      "z3:  [[18.]]\n",
      "z4:  [[24.]]\n"
     ]
    }
   ],
   "source": [
    "''' Update parameter in cycles'''\n",
    "\n",
    "# initialize\n",
    "x = T.fmatrix('x')\n",
    "w = theano.shared(np.asarray([[0.0, 0.0, 0.0]],\n",
    "                            dtype=theano.config.floatX))\n",
    "z = x.dot(w.T)\n",
    "update = [[w, w + 1.0]]\n",
    "\n",
    "# compile\n",
    "net_input = theano.function(inputs=[x],\n",
    "                           updates=update,\n",
    "                           outputs=z,\n",
    "                           allow_input_downcast=True)\n",
    "\n",
    "# execute\n",
    "data = np.array([[1, 2, 3]],\n",
    "               dtype=theano.config.floatX)\n",
    "for i in range(5):\n",
    "    print('z%d: ' % i, net_input(data))"
   ]
  },
  {
   "cell_type": "code",
   "execution_count": 4,
   "metadata": {},
   "outputs": [
    {
     "name": "stdout",
     "output_type": "stream",
     "text": [
      "z:  [[0.]]\n",
      "z:  [[6.]]\n",
      "z:  [[12.]]\n",
      "z:  [[18.]]\n",
      "z:  [[24.]]\n"
     ]
    }
   ],
   "source": [
    "''' Insert values into the graph before compiling it '''\n",
    "\n",
    "import theano\n",
    "from theano import tensor as T\n",
    "import numpy as np\n",
    "\n",
    "# initialize\n",
    "data = np.array([[1,2,3]],\n",
    "               dtype=theano.config.floatX)\n",
    "y = T.matrix('x') # variable name means nothing in this case\n",
    "w = theano.shared(np.asarray([[0.0, 0.0, 0.0]],\n",
    "                            dtype=theano.config.floatX))\n",
    "z = y.dot(w.T)\n",
    "update = [[w, w + 1.0]]\n",
    "\n",
    "# compile\n",
    "net_input = theano.function(inputs=[],\n",
    "                           updates=update,\n",
    "                           givens={y: data},\n",
    "                           outputs=z)\n",
    "\n",
    "# execute\n",
    "for i in range(5):\n",
    "    print('z: ', net_input())"
   ]
  },
  {
   "cell_type": "code",
   "execution_count": 5,
   "metadata": {},
   "outputs": [],
   "source": [
    "''' Linear regression example '''\n",
    "\n",
    "X_train = np.asarray([[0.0], [1.0],\n",
    "                     [2.0], [3.0],\n",
    "                     [4.0], [5.0],\n",
    "                     [6.0], [7.0],\n",
    "                     [8.0], [9.0]],\n",
    "                    dtype=theano.config.floatX)\n",
    "y_train = np.asarray([1.0, 1.3,\n",
    "                     3.1, 2.0,\n",
    "                     5.0, 6.3,\n",
    "                     6.6, 7.4,\n",
    "                     8.0, 9.0],\n",
    "                    dtype=theano.config.floatX)\n"
   ]
  },
  {
   "cell_type": "code",
   "execution_count": 15,
   "metadata": {},
   "outputs": [],
   "source": [
    "import theano\n",
    "from theano import tensor as T\n",
    "import numpy as np\n",
    "\n",
    "def train_linreg(X_train, y_train, eta, epochs):\n",
    "    \n",
    "    costs = []\n",
    "    # Initialize arrays\n",
    "    eta0 = T.scalar('eta0')\n",
    "    y = T.vector(name='y')\n",
    "    X = T.matrix(name='X')\n",
    "    w = theano.shared(np.zeros(shape=(X_train.shape[1] + 1),\n",
    "                               dtype=theano.config.floatX),\n",
    "                     name='w')\n",
    "    \n",
    "    # calculate cost\n",
    "    net_input = T.dot(X, w[1:]) + w[0]\n",
    "    errors = y - net_input\n",
    "    cost = T.sum(T.pow(errors, 2))\n",
    "    \n",
    "    # perform gradient update\n",
    "    gradient = T.grad(cost, wrt=w)\n",
    "    update = [(w, w - eta0 * gradient)]\n",
    "    \n",
    "    # compile model\n",
    "    train = theano.function(inputs=[eta0],\n",
    "                           outputs=cost,\n",
    "                           updates=update,\n",
    "                           givens={X: X_train,\n",
    "                                  y: y_train},\n",
    "                           allow_input_downcast=True)\n",
    "    \n",
    "    for _ in range(epochs):\n",
    "        costs.append(train(eta))\n",
    "    \n",
    "    return costs, w"
   ]
  },
  {
   "cell_type": "code",
   "execution_count": 17,
   "metadata": {},
   "outputs": [
    {
     "data": {
      "image/png": "[encoded data removed]",
      "text/plain": [
       "<matplotlib.figure.Figure at 0x1c17285f28>"
      ]
     },
     "metadata": {},
     "output_type": "display_data"
    }
   ],
   "source": [
    "import matplotlib.pyplot as plt\n",
    "costs, w = train_linreg(X_train, y_train, eta=0.001, epochs=10)\n",
    "plt.plot(range(1, len(costs) + 1), costs)\n",
    "plt.tight_layout()\n",
    "plt.xlabel('Epoch')\n",
    "plt.ylabel('Cost')\n",
    "plt.show()"
   ]
  },
  {
   "cell_type": "code",
   "execution_count": 18,
   "metadata": {},
   "outputs": [],
   "source": [
    "def predict_linreg(X, w):\n",
    "    Xt = T.matrix(name='X')\n",
    "    net_input = T.dot(Xt, w[1:]) + w[0]\n",
    "    predict = theano.function(inputs=[Xt],\n",
    "                             givens={w: w},\n",
    "                             outputs=net_input)\n",
    "    return predict(X)"
   ]
  },
  {
   "cell_type": "code",
   "execution_count": 19,
   "metadata": {},
   "outputs": [
    {
     "data": {
      "image/png": "[encoded data removed]",
      "text/plain": [
       "<matplotlib.figure.Figure at 0x1c177095c0>"
      ]
     },
     "metadata": {},
     "output_type": "display_data"
    }
   ],
   "source": [
    "plt.scatter(X_train,\n",
    "           y_train,\n",
    "           marker='s',\n",
    "           s=50)\n",
    "plt.plot(range(X_train.shape[0]),\n",
    "        predict_linreg(X_train, w),\n",
    "        color='gray',\n",
    "        marker='o',\n",
    "        markersize=4,\n",
    "        linewidth=3)\n",
    "plt.xlabel('x')\n",
    "plt.ylabel('y')\n",
    "plt.show()"
   ]
  },
  {
   "cell_type": "code",
   "execution_count": null,
   "metadata": {},
   "outputs": [],
   "source": []
  },
  {
   "cell_type": "code",
   "execution_count": 20,
   "metadata": {},
   "outputs": [
    {
     "name": "stdout",
     "output_type": "stream",
     "text": [
      "P(y=1|x) = 0.707\n"
     ]
    }
   ],
   "source": [
    "''' Part two. Activation functions for feedforward neural networks '''\n",
    "\n",
    "# Logistic function - makes confusing prediction about class probabilities\n",
    "\n",
    "X = np.array([[1, 1.4, 1.5]])\n",
    "w = np.array([0.0, 0.2, 0.4])\n",
    "\n",
    "def net_input(X, w):\n",
    "    z = X.dot(w)\n",
    "    return z\n",
    "\n",
    "def logistic(z):\n",
    "    return 1.0 / (1.0 + np.exp(-z))\n",
    "\n",
    "def logistic_activation(X, w):\n",
    "    z = net_input(X, w)\n",
    "    return logistic(z)\n",
    "\n",
    "print('P(y=1|x) = %.3f'\n",
    "     % logistic_activation(X, w)[0])"
   ]
  },
  {
   "cell_type": "code",
   "execution_count": 21,
   "metadata": {},
   "outputs": [
    {
     "name": "stdout",
     "output_type": "stream",
     "text": [
      "Probabilities:\n",
      " [[0.87653295]\n",
      " [0.57688526]\n",
      " [0.90114393]]\n"
     ]
    }
   ],
   "source": [
    "# W : array, shape = [n_output_units, n_hidden_units+1]\n",
    "#             Weight matrix for hidden layer -> output layer.\n",
    "# note that first column (A[:][0] = 1) are the bias units\n",
    "W = np.array([[1.1, 1.2, 1.3, 0.5],\n",
    "             [0.1, 0.2, 0.4, 0.1],\n",
    "             [0.2, 0.5, 2.1, 1.9]])\n",
    "\n",
    "# A : array, shape = [n_hidden+1, n_samples]\n",
    "#            Activation of hidden layer.\n",
    "# note that first element (A[0][0] = 1) is the bias unit\n",
    "A = np.array([[1.0],\n",
    "             [0.1],\n",
    "             [0.3],\n",
    "             [0.7]])\n",
    "\n",
    "# Z : array, shape = [n_output_units, n_samples]\n",
    "#            Net input of the output layer.\n",
    "Z = W.dot(A)\n",
    "y_probas = logistic(Z)\n",
    "print('Probabilities:\\n', y_probas)"
   ]
  },
  {
   "cell_type": "code",
   "execution_count": null,
   "metadata": {},
   "outputs": [],
   "source": []
  },
  {
   "cell_type": "code",
   "execution_count": 26,
   "metadata": {},
   "outputs": [
    {
     "name": "stdout",
     "output_type": "stream",
     "text": [
      "Probabilities:\n",
      " [[0.40386493]\n",
      " [0.07756222]\n",
      " [0.51857284]]\n",
      "Predicted class label: 2\n"
     ]
    }
   ],
   "source": [
    "# Softmax function - makes probabilities to sum up to 1\n",
    "\n",
    "def softmax(z):\n",
    "    return np.exp(z) / np.sum(np.exp(z))\n",
    "\n",
    "def softmax_activation(X, w):\n",
    "    z = net_input(X, w)\n",
    "    return softmax(z)\n",
    "\n",
    "y_probas = softmax(Z)\n",
    "print('Probabilities:\\n', y_probas)\n",
    "\n",
    "y_class = np.argmax(Z, axis=0)\n",
    "print('Predicted class label: %d'\n",
    "     % y_class[0])"
   ]
  },
  {
   "cell_type": "code",
   "execution_count": null,
   "metadata": {},
   "outputs": [],
   "source": []
  },
  {
   "cell_type": "code",
   "execution_count": 27,
   "metadata": {},
   "outputs": [
    {
     "data": {
      "image/png": "[encoded data removed]",
      "text/plain": [
       "<matplotlib.figure.Figure at 0x1c17414cf8>"
      ]
     },
     "metadata": {},
     "output_type": "display_data"
    }
   ],
   "source": [
    "# Hyperbolic tangent - broader spectrum\n",
    "\n",
    "import matplotlib.pyplot as plt\n",
    "\n",
    "def tanh(z):\n",
    "    e_p = np.exp(z)\n",
    "    e_m = np.exp(-z)\n",
    "    return (e_p - e_m) / (e_p + e_m)\n",
    "\n",
    "z = np.arange(-5, 5, 0.005)\n",
    "log_act = logistic(z)\n",
    "tanh_act = tanh(z)\n",
    "\n",
    "plt.ylim([-1.5, 1.5])\n",
    "plt.xlabel('net input $z$')\n",
    "plt.ylabel('activation $\\phi(z)$')\n",
    "plt.axhline(1, color='black', linestyle='--')\n",
    "plt.axhline(0.5, color='black', linestyle='--')\n",
    "plt.axhline(0, color='black', linestyle='--')\n",
    "plt.axhline(-1, color='black', linestyle='--')\n",
    "\n",
    "plt.plot(z, tanh_act,\n",
    "        linewidth=2,\n",
    "        color='black',\n",
    "        label='tanh')\n",
    "plt.plot(z, log_act,\n",
    "        linewidth=2,\n",
    "        color='green',\n",
    "        label='logistic')\n",
    "plt.legend(loc='lower right')\n",
    "plt.tight_layout()\n",
    "plt.show()"
   ]
  },
  {
   "cell_type": "code",
   "execution_count": null,
   "metadata": {},
   "outputs": [],
   "source": []
  },
  {
   "cell_type": "code",
   "execution_count": 1,
   "metadata": {},
   "outputs": [
    {
     "name": "stdout",
     "output_type": "stream",
     "text": [
      "Rows: 60000, columns: 784\n",
      "Rows: 10000, columns: 784\n"
     ]
    }
   ],
   "source": [
    "''' Part three. Keras '''\n",
    "\n",
    "import os\n",
    "import struct\n",
    "import numpy as np\n",
    "\n",
    "def load_mnist(path, kind='train'):\n",
    "    '''Load MNIST data from `path`'''\n",
    "    labels_path = os.path.join(path,\n",
    "                              '%s-labels-idx1-ubyte'\n",
    "                              % kind)\n",
    "    images_path = os.path.join(path,\n",
    "                              '%s-images-idx3-ubyte'\n",
    "                              % kind)\n",
    "    with open(labels_path, 'rb') as lbpath:\n",
    "        magic, n = struct.unpack('>II',\n",
    "                                lbpath.read(8))\n",
    "        labels = np.fromfile(lbpath,\n",
    "                            dtype=np.uint8)\n",
    "    with open(images_path, 'rb') as imgpath:\n",
    "        magic, num, rows, cols = struct.unpack('>IIII',\n",
    "                                              imgpath.read(16))\n",
    "        images = np.fromfile(imgpath,\n",
    "                            dtype=np.uint8).reshape(len(labels), 784)\n",
    "    return images, labels\n",
    "\n",
    "X_train, y_train = load_mnist('mnist', kind='train')\n",
    "print('Rows: %d, columns: %d'\n",
    "     % (X_train.shape[0], X_train.shape[1]))\n",
    "\n",
    "X_test, y_test = load_mnist('mnist', kind='t10k')\n",
    "print('Rows: %d, columns: %d'\n",
    "     % (X_test.shape[0], X_test.shape[1]))"
   ]
  },
  {
   "cell_type": "code",
   "execution_count": 2,
   "metadata": {},
   "outputs": [],
   "source": [
    "# Configure theano in command-line where mnist_keras_mlp.py lays:\n",
    "# THEANO_FLAGS=mode=FAST_RUN,device=gpu,floatX=float32 python mnist_keras_mpl.py\n",
    "\n",
    "# This will be the mnist_keras_mpl.py file\n",
    "\n",
    "import theano\n",
    "theano.config.floatX = 'float32'\n",
    "X_train = X_train.astype(theano.config.floatX)\n",
    "X_test = X_test.astype(theano.config.floatX)"
   ]
  },
  {
   "cell_type": "code",
   "execution_count": 3,
   "metadata": {},
   "outputs": [
    {
     "name": "stderr",
     "output_type": "stream",
     "text": [
      "Using Theano backend.\n"
     ]
    },
    {
     "name": "stdout",
     "output_type": "stream",
     "text": [
      "First 3 labels:  [5 0 4]\n",
      "\n",
      "First 3 labels (one-hot):\n",
      " [[ 0.  0.  0.  0.  0.  1.  0.  0.  0.  0.]\n",
      " [ 1.  0.  0.  0.  0.  0.  0.  0.  0.  0.]\n",
      " [ 0.  0.  0.  0.  1.  0.  0.  0.  0.  0.]]\n"
     ]
    }
   ],
   "source": [
    "from keras.utils import np_utils\n",
    "print('First 3 labels: ', y_train[:3])\n",
    "y_train_ohe = np_utils.to_categorical(y_train)\n",
    "print('\\nFirst 3 labels (one-hot):\\n', y_train_ohe[:3])"
   ]
  },
  {
   "cell_type": "code",
   "execution_count": 5,
   "metadata": {},
   "outputs": [
    {
     "name": "stderr",
     "output_type": "stream",
     "text": [
      "/Users/A.Miroshnikova/Public/Conda/anaconda3/lib/python3.6/site-packages/ipykernel_launcher.py:10: UserWarning: Update your `Dense` call to the Keras 2 API: `Dense(input_dim=784, activation=\"tanh\", units=50, kernel_initializer=\"uniform\")`\n",
      "  # Remove the CWD from sys.path while we load stuff.\n",
      "/Users/A.Miroshnikova/Public/Conda/anaconda3/lib/python3.6/site-packages/ipykernel_launcher.py:14: UserWarning: Update your `Dense` call to the Keras 2 API: `Dense(input_dim=50, activation=\"tanh\", units=50, kernel_initializer=\"uniform\")`\n",
      "  \n",
      "/Users/A.Miroshnikova/Public/Conda/anaconda3/lib/python3.6/site-packages/ipykernel_launcher.py:18: UserWarning: Update your `Dense` call to the Keras 2 API: `Dense(input_dim=50, activation=\"softmax\", units=10, kernel_initializer=\"uniform\")`\n"
     ]
    }
   ],
   "source": [
    "from keras.models import Sequential\n",
    "from keras.layers.core import Dense\n",
    "from keras.optimizers import SGD\n",
    "\n",
    "np.random.seed(1)\n",
    "model = Sequential()\n",
    "model.add(Dense(input_dim=X_train.shape[1],\n",
    "               output_dim=50,\n",
    "               init='uniform',\n",
    "               activation='tanh'))\n",
    "model.add(Dense(input_dim=50,\n",
    "               output_dim=50,\n",
    "               init='uniform',\n",
    "               activation='tanh'))\n",
    "model.add(Dense(input_dim=50,\n",
    "               output_dim=y_train_ohe.shape[1],\n",
    "               init='uniform',\n",
    "               activation='softmax'))\n",
    "sgd = SGD(lr=0.001, decay=1e-7, momentum=.9)\n",
    "model.compile(loss='categorical_crossentropy',\n",
    "             optimizer=sgd)"
   ]
  },
  {
   "cell_type": "code",
   "execution_count": 8,
   "metadata": {},
   "outputs": [
    {
     "name": "stdout",
     "output_type": "stream",
     "text": [
      "Train on 54000 samples, validate on 6000 samples\n",
      "Epoch 1/50\n",
      "54000/54000 [==============================] - 1s 11us/step - loss: 0.2063 - val_loss: 0.1743\n",
      "Epoch 2/50\n",
      "54000/54000 [==============================] - 1s 16us/step - loss: 0.1939 - val_loss: 0.1738\n",
      "Epoch 3/50\n",
      "54000/54000 [==============================] - 1s 20us/step - loss: 0.1983 - val_loss: 0.1894\n",
      "Epoch 4/50\n",
      "54000/54000 [==============================] - 1s 16us/step - loss: 0.1943 - val_loss: 0.1775\n",
      "Epoch 5/50\n",
      "54000/54000 [==============================] - 1s 14us/step - loss: 0.1934 - val_loss: 0.1704\n",
      "Epoch 6/50\n",
      "54000/54000 [==============================] - 1s 19us/step - loss: 0.1893 - val_loss: 0.1749\n",
      "Epoch 7/50\n",
      "54000/54000 [==============================] - 1s 14us/step - loss: 0.1918 - val_loss: 0.1799\n",
      "Epoch 8/50\n",
      "54000/54000 [==============================] - 1s 15us/step - loss: 0.1904 - val_loss: 0.1727\n",
      "Epoch 9/50\n",
      "54000/54000 [==============================] - 1s 19us/step - loss: 0.1830 - val_loss: 0.1644\n",
      "Epoch 10/50\n",
      "54000/54000 [==============================] - 1s 16us/step - loss: 0.1800 - val_loss: 0.1727\n",
      "Epoch 11/50\n",
      "54000/54000 [==============================] - 1s 13us/step - loss: 0.1813 - val_loss: 0.1787\n",
      "Epoch 12/50\n",
      "54000/54000 [==============================] - 1s 14us/step - loss: 0.1852 - val_loss: 0.1729\n",
      "Epoch 13/50\n",
      "54000/54000 [==============================] - 1s 13us/step - loss: 0.1828 - val_loss: 0.1699\n",
      "Epoch 14/50\n",
      "54000/54000 [==============================] - 1s 13us/step - loss: 0.1777 - val_loss: 0.1687\n",
      "Epoch 15/50\n",
      "54000/54000 [==============================] - 1s 12us/step - loss: 0.1784 - val_loss: 0.1704\n",
      "Epoch 16/50\n",
      "54000/54000 [==============================] - 1s 11us/step - loss: 0.1730 - val_loss: 0.1564\n",
      "Epoch 17/50\n",
      "54000/54000 [==============================] - 1s 11us/step - loss: 0.1705 - val_loss: 0.1660\n",
      "Epoch 18/50\n",
      "54000/54000 [==============================] - 1s 12us/step - loss: 0.1728 - val_loss: 0.1607\n",
      "Epoch 19/50\n",
      "54000/54000 [==============================] - 1s 11us/step - loss: 0.1735 - val_loss: 0.1613\n",
      "Epoch 20/50\n",
      "54000/54000 [==============================] - 1s 12us/step - loss: 0.1708 - val_loss: 0.1639\n",
      "Epoch 21/50\n",
      "54000/54000 [==============================] - 1s 11us/step - loss: 0.1726 - val_loss: 0.1673\n",
      "Epoch 22/50\n",
      "54000/54000 [==============================] - 1s 11us/step - loss: 0.1812 - val_loss: 0.1737\n",
      "Epoch 23/50\n",
      "54000/54000 [==============================] - 1s 12us/step - loss: 0.1721 - val_loss: 0.1592\n",
      "Epoch 24/50\n",
      "54000/54000 [==============================] - 1s 11us/step - loss: 0.1728 - val_loss: 0.1582\n",
      "Epoch 25/50\n",
      "54000/54000 [==============================] - 1s 12us/step - loss: 0.1759 - val_loss: 0.1573\n",
      "Epoch 26/50\n",
      "54000/54000 [==============================] - 1s 15us/step - loss: 0.1749 - val_loss: 0.1643\n",
      "Epoch 27/50\n",
      "54000/54000 [==============================] - 1s 11us/step - loss: 0.1723 - val_loss: 0.1564\n",
      "Epoch 28/50\n",
      "54000/54000 [==============================] - 1s 12us/step - loss: 0.1654 - val_loss: 0.1494\n",
      "Epoch 29/50\n",
      "54000/54000 [==============================] - 1s 12us/step - loss: 0.1643 - val_loss: 0.1531\n",
      "Epoch 30/50\n",
      "54000/54000 [==============================] - 1s 13us/step - loss: 0.1628 - val_loss: 0.1548\n",
      "Epoch 31/50\n",
      "54000/54000 [==============================] - 1s 12us/step - loss: 0.1690 - val_loss: 0.1583\n",
      "Epoch 32/50\n",
      "54000/54000 [==============================] - 1s 12us/step - loss: 0.1634 - val_loss: 0.1561\n",
      "Epoch 33/50\n",
      "54000/54000 [==============================] - 1s 11us/step - loss: 0.1652 - val_loss: 0.1468\n",
      "Epoch 34/50\n",
      "54000/54000 [==============================] - 1s 12us/step - loss: 0.1631 - val_loss: 0.1581\n",
      "Epoch 35/50\n",
      "54000/54000 [==============================] - 1s 11us/step - loss: 0.1666 - val_loss: 0.1519\n",
      "Epoch 36/50\n",
      "54000/54000 [==============================] - 1s 12us/step - loss: 0.1597 - val_loss: 0.1495\n",
      "Epoch 37/50\n",
      "54000/54000 [==============================] - 1s 12us/step - loss: 0.1612 - val_loss: 0.1469\n",
      "Epoch 38/50\n",
      "54000/54000 [==============================] - 1s 11us/step - loss: 0.1577 - val_loss: 0.1496\n",
      "Epoch 39/50\n",
      "54000/54000 [==============================] - 1s 12us/step - loss: 0.1569 - val_loss: 0.1491\n",
      "Epoch 40/50\n",
      "54000/54000 [==============================] - 1s 13us/step - loss: 0.1510 - val_loss: 0.1538\n",
      "Epoch 41/50\n",
      "54000/54000 [==============================] - 1s 11us/step - loss: 0.1532 - val_loss: 0.1498\n",
      "Epoch 42/50\n",
      "54000/54000 [==============================] - 1s 13us/step - loss: 0.1562 - val_loss: 0.1469\n",
      "Epoch 43/50\n",
      "54000/54000 [==============================] - 1s 12us/step - loss: 0.1515 - val_loss: 0.1507\n",
      "Epoch 44/50\n",
      "54000/54000 [==============================] - 1s 11us/step - loss: 0.1499 - val_loss: 0.1432\n",
      "Epoch 45/50\n",
      "54000/54000 [==============================] - 1s 12us/step - loss: 0.1544 - val_loss: 0.1495\n",
      "Epoch 46/50\n",
      "54000/54000 [==============================] - 1s 12us/step - loss: 0.1479 - val_loss: 0.1482\n",
      "Epoch 47/50\n",
      "54000/54000 [==============================] - 1s 11us/step - loss: 0.1544 - val_loss: 0.1511\n",
      "Epoch 48/50\n",
      "54000/54000 [==============================] - 1s 12us/step - loss: 0.1570 - val_loss: 0.1582\n",
      "Epoch 49/50\n",
      "54000/54000 [==============================] - 1s 11us/step - loss: 0.1586 - val_loss: 0.1487\n",
      "Epoch 50/50\n",
      "54000/54000 [==============================] - 1s 12us/step - loss: 0.1525 - val_loss: 0.1489\n"
     ]
    },
    {
     "data": {
      "text/plain": [
       "<keras.callbacks.History at 0x1c253744e0>"
      ]
     },
     "execution_count": 8,
     "metadata": {},
     "output_type": "execute_result"
    }
   ],
   "source": [
    "model.fit(X_train,\n",
    "         y_train_ohe,\n",
    "         epochs=50,\n",
    "         batch_size=300,\n",
    "         verbose=1,\n",
    "         validation_split=0.1)"
   ]
  },
  {
   "cell_type": "code",
   "execution_count": 9,
   "metadata": {},
   "outputs": [
    {
     "name": "stdout",
     "output_type": "stream",
     "text": [
      "First 3 predictions:  [5 0 4]\n"
     ]
    }
   ],
   "source": [
    "y_train_pred = model.predict_classes(X_train, verbose=0)\n",
    "print('First 3 predictions: ', y_train_pred[:3])"
   ]
  },
  {
   "cell_type": "code",
   "execution_count": 10,
   "metadata": {},
   "outputs": [
    {
     "name": "stdout",
     "output_type": "stream",
     "text": [
      "Training accuracy: 95.47%\n"
     ]
    }
   ],
   "source": [
    "train_acc = np.sum(\n",
    "    y_train == y_train_pred, axis=0) / X_train.shape[0]\n",
    "print('Training accuracy: %.2f%%' % (train_acc * 100))"
   ]
  },
  {
   "cell_type": "code",
   "execution_count": 11,
   "metadata": {},
   "outputs": [
    {
     "name": "stdout",
     "output_type": "stream",
     "text": [
      "Test accuracy: 94.67%\n"
     ]
    }
   ],
   "source": [
    "y_test_pred = model.predict_classes(X_test, verbose=0)\n",
    "test_acc = np.sum(\n",
    "    y_test == y_test_pred, axis=0) / X_test.shape[0]\n",
    "print('Test accuracy: %.2f%%' % (test_acc * 100))"
   ]
  },
  {
   "cell_type": "code",
   "execution_count": null,
   "metadata": {},
   "outputs": [],
   "source": []
  }
 ],
 "metadata": {
  "kernelspec": {
   "display_name": "Python 3",
   "language": "python",
   "name": "python3"
  },
  "language_info": {
   "codemirror_mode": {
    "name": "ipython",
    "version": 3
   },
   "file_extension": ".py",
   "mimetype": "text/x-python",
   "name": "python",
   "nbconvert_exporter": "python",
   "pygments_lexer": "ipython3",
   "version": "3.6.4"
  }
 },
 "nbformat": 4,
 "nbformat_minor": 2
}
