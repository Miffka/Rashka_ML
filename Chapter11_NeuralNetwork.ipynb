{
 "cells": [
  {
   "cell_type": "code",
   "execution_count": 1,
   "metadata": {},
   "outputs": [],
   "source": [
    "# Part one. Download MNIST images\n",
    "\n",
    "import os\n",
    "import struct\n",
    "import numpy as np\n",
    "\n",
    "def load_mnist(path, kind='train'):\n",
    "    '''Load MNIST data from `path`'''\n",
    "    labels_path = os.path.join(path,\n",
    "                              '%s-labels-idx1-ubyte'\n",
    "                              % kind)\n",
    "    images_path = os.path.join(path,\n",
    "                              '%s-images-idx3-ubyte'\n",
    "                              % kind)\n",
    "    with open(labels_path, 'rb') as lbpath:\n",
    "        magic, n = struct.unpack('>II',\n",
    "                                lbpath.read(8))\n",
    "        labels = np.fromfile(lbpath,\n",
    "                            dtype=np.uint8)\n",
    "    with open(images_path, 'rb') as imgpath:\n",
    "        magic, num, rows, cols = struct.unpack('>IIII',\n",
    "                                              imgpath.read(16))\n",
    "        images = np.fromfile(imgpath,\n",
    "                            dtype=np.uint8).reshape(len(labels), 784)\n",
    "    return images, labels\n"
   ]
  },
  {
   "cell_type": "code",
   "execution_count": 3,
   "metadata": {},
   "outputs": [
    {
     "name": "stdout",
     "output_type": "stream",
     "text": [
      "Rows: 60000, columns: 784\n",
      "Rows: 10000, columns: 784\n"
     ]
    }
   ],
   "source": [
    "X_train, y_train = load_mnist('mnist', kind='train')\n",
    "print('Rows: %d, columns: %d'\n",
    "     % (X_train.shape[0], X_train.shape[1]))\n",
    "\n",
    "X_test, y_test = load_mnist('mnist', kind='t10k')\n",
    "print('Rows: %d, columns: %d'\n",
    "     % (X_test.shape[0], X_test.shape[1]))"
   ]
  },
  {
   "cell_type": "code",
   "execution_count": 5,
   "metadata": {},
   "outputs": [
    {
     "data": {
      "image/png": "[encoded data removed]",
      "text/plain": [
       "<matplotlib.figure.Figure at 0x11a033898>"
      ]
     },
     "metadata": {},
     "output_type": "display_data"
    }
   ],
   "source": [
    "import matplotlib.pyplot as plt\n",
    "fig, ax = plt.subplots(nrows=2, ncols=5, sharex=True, sharey=True)\n",
    "ax = ax.flatten()\n",
    "for i in range(10):\n",
    "    img = X_train[y_train==i][0].reshape(28,28)\n",
    "    ax[i].imshow(img, cmap='Greys', interpolation='nearest')\n",
    "ax[0].set_xticks([])\n",
    "ax[0].set_yticks([])\n",
    "plt.tight_layout()\n",
    "plt.show()"
   ]
  },
  {
   "cell_type": "code",
   "execution_count": 6,
   "metadata": {},
   "outputs": [
    {
     "data": {
      "image/png": "[encoded data removed]",
      "text/plain": [
       "<matplotlib.figure.Figure at 0x11a033470>"
      ]
     },
     "metadata": {},
     "output_type": "display_data"
    }
   ],
   "source": [
    "fig, ax = plt.subplots(nrows=5,\n",
    "                      ncols=5,\n",
    "                      sharex=True,\n",
    "                      sharey=True)\n",
    "ax = ax.flatten()\n",
    "for i in range(25):\n",
    "    img = X_train[y_train==7][i].reshape(28,28)\n",
    "    ax[i].imshow(img, cmap='Greys', interpolation='nearest')\n",
    "ax[0].set_xticks([])\n",
    "ax[0].set_yticks([])\n",
    "plt.tight_layout()\n",
    "plt.show()"
   ]
  },
  {
   "cell_type": "code",
   "execution_count": null,
   "metadata": {},
   "outputs": [],
   "source": []
  },
  {
   "cell_type": "code",
   "execution_count": 12,
   "metadata": {},
   "outputs": [],
   "source": [
    "# Part two. Multi-layer perceptron\n",
    "\n",
    "import numpy as np\n",
    "from scipy.special import expit\n",
    "import sys\n",
    "\n",
    "class NeuralNetMLP(object):\n",
    "    def __init__(self, n_output, n_features, n_hidden=30,\n",
    "                l1=0.0, l2=0.0, epochs=500, eta=0.001,\n",
    "                alpha=0.0, decrease_const=0.0, shuffle=True,\n",
    "                minibatches=1, random_state=None):\n",
    "        np.random.seed(random_state)\n",
    "        self.n_output = n_output\n",
    "        self.n_features = n_features\n",
    "        self.n_hidden = n_hidden\n",
    "        self.w1, self.w2 = self._initialize_weights()\n",
    "        self.l1 = l1\n",
    "        self.l2 = l2\n",
    "        self.epochs = epochs\n",
    "        self.eta = eta\n",
    "        self.alpha = alpha\n",
    "        self.decrease_const = decrease_const\n",
    "        self.shuffle = shuffle\n",
    "        self.minibatches = minibatches\n",
    "        \n",
    "    def _encode_labels(self, y, k):\n",
    "        onehot = np.zeros((k, y.shape[0]))\n",
    "        for idx, val in enumerate(y):\n",
    "            onehot[val, idx] = 1.0\n",
    "        return onehot\n",
    "    \n",
    "    def _initialize_weights(self):\n",
    "        w1 = np.random.uniform(-1.0, 1.0,\n",
    "                              size=self.n_hidden*(self.n_features + 1))\n",
    "        w1 = w1.reshape(self.n_hidden, self.n_features + 1)\n",
    "        w2 = np.random.uniform(-1.0, 1.0,\n",
    "                              size=self.n_output*(self.n_hidden + 1))\n",
    "        w2 = w2.reshape(self.n_output, self.n_hidden + 1)\n",
    "        return w1, w2\n",
    "    \n",
    "    def _sigmoid(self, z):\n",
    "        # expit is equivalent to 1.0/(1.0 + np.exp(-z))\n",
    "        return expit(z)\n",
    "    \n",
    "    def _sigmoid_gradient(self, z):\n",
    "        sg = self._sigmoid(z)\n",
    "        return sg * (1 - sg)\n",
    "    \n",
    "    def _add_bias_unit(self, X, how='column'):\n",
    "        if how == 'column':\n",
    "            X_new = np.ones((X.shape[0], X.shape[1]+1))\n",
    "            X_new[:, 1:] = X\n",
    "        elif how == 'row':\n",
    "            X_new = np.ones((X.shape[0]+1, X.shape[1]))\n",
    "            X_new[1:, :] = X\n",
    "        else:\n",
    "            raise AttributeError('`how` must `column` or `row`')\n",
    "        return X_new\n",
    "    \n",
    "    def _feedforward(self, X, w1, w2):\n",
    "        a1 = self._add_bias_unit(X, how='column')\n",
    "        z2 = w1.dot(a1.T)\n",
    "        a2 = self._sigmoid(z2)\n",
    "        a2 = self._add_bias_unit(a2, how='row')\n",
    "        z3 = w2.dot(a2)\n",
    "        a3 = self._sigmoid(z3)\n",
    "        return a1, z2, a2, z3, a3\n",
    "    \n",
    "    def _L2_reg(self, lambda_, w1, w2):\n",
    "        return (lambda_/2.0) * (np.sum(w1[:, 1:] ** 2) + np.sum(w2[:, 1:] ** 2))\n",
    "    \n",
    "    def _L1_reg(self, lambda_, w1, w2):\n",
    "        return (lambda_/2.0) * (np.abs(w1[:, 1:]).sum() + np.abs(w2[:, 1:]).sum())\n",
    "    \n",
    "    def _get_cost(self, y_enc, output, w1, w2):\n",
    "        term1 = -y_enc * (np.log(output))\n",
    "        term2 = (1 - y_enc) * np.log(1 - output)\n",
    "        cost = np.sum(term1 - term2)\n",
    "        L1_term = self._L1_reg(self.l1, w1, w2)\n",
    "        L2_term = self._L2_reg(self.l2, w1, w2)\n",
    "        cost = cost + L1_term + L2_term\n",
    "        return cost\n",
    "    \n",
    "    def _get_gradient(self, a1, a2, a3, z2, y_enc, w1, w2):\n",
    "        # backpropagation\n",
    "        sigma3 = a3 - y_enc\n",
    "        z2 = self._add_bias_unit(z2, how='row')\n",
    "        sigma2 = w2.T.dot(sigma3) * self._sigmoid_gradient(z2)\n",
    "        sigma2 = sigma2[1:, :]\n",
    "        grad1 = sigma2.dot(a1)\n",
    "        grad2 = sigma3.dot(a2.T)\n",
    "        \n",
    "        # regularise\n",
    "        grad1[:, 1:] += (w1[:, 1:] * (self.l1 + self.l2))\n",
    "        grad2[:, 1:] += (w2[:, 1:] * (self.l1 + self.l2))\n",
    "        \n",
    "        return grad1, grad2\n",
    "    \n",
    "    def predict(self, X):\n",
    "        a1, z2, a2, z3, a3 = self._feedforward(X, self.w1, self.w2)\n",
    "        y_pred = np.argmax(z3, axis=0)\n",
    "        return y_pred\n",
    "    \n",
    "    def fit(self, X, y, print_progress=False):\n",
    "        self.cost_ = []\n",
    "        X_data, y_data = X.copy(), y.copy()\n",
    "        y_enc = self._encode_labels(y, self.n_output)\n",
    "        \n",
    "        delta_w1_prev = np.zeros(self.w1.shape)\n",
    "        delta_w2_prev = np.zeros(self.w2.shape)\n",
    "        \n",
    "        for i in range(self.epochs):\n",
    "            # adaptive learning rate\n",
    "            self.eta /= (1 + self.decrease_const*i)\n",
    "            \n",
    "            if print_progress:\n",
    "                sys.stderr.write('rEpoch: %d/%d' %\n",
    "                                (i+1, self.epochs))\n",
    "                sys.stderr.flush()\n",
    "            \n",
    "            if self.shuffle:\n",
    "                idx = np.random.permutation(y_data.shape[0])\n",
    "                X_data, y_data = X_data[idx], y_data[idx]\n",
    "                \n",
    "            mini = np.array_split(range(y_data.shape[0]),\n",
    "                                 self.minibatches)\n",
    "            for idx in mini:\n",
    "                # feedforward\n",
    "                a1, z2, a2, z3, a3 = self._feedforward(\n",
    "                                    X[idx], self.w1, self.w2)\n",
    "                cost = self._get_cost(y_enc=y_enc[:, idx],\n",
    "                                     output=a3,\n",
    "                                     w1=self.w1,\n",
    "                                     w2=self.w2)\n",
    "                self.cost_.append(cost)\n",
    "                \n",
    "                # compute gradient via backpropagation\n",
    "                grad1, grad2 = self._get_gradient(a1=a1, a2=a2,\n",
    "                                                 a3=a3, z2=z2,\n",
    "                                                 y_enc=y_enc[:, idx],\n",
    "                                                 w1=self.w1,\n",
    "                                                 w2=self.w2)\n",
    "                \n",
    "                # update weights\n",
    "                delta_w1, delta_w2 = self.eta * grad1, self.eta * grad2\n",
    "                self.w1 -= (delta_w1 + (self.alpha * delta_w1_prev))\n",
    "                self.w2 -= (delta_w2 + (self.alpha * delta_w2_prev))\n",
    "                delta_w1_prev, delta_w2_prev = delta_w1, delta_w2\n",
    "                \n",
    "        return self"
   ]
  },
  {
   "cell_type": "code",
   "execution_count": 13,
   "metadata": {},
   "outputs": [],
   "source": [
    "nn = NeuralNetMLP(n_output=10,\n",
    "                 n_features=X_train.shape[1],\n",
    "                 n_hidden=50,\n",
    "                 l2=0.1,\n",
    "                 l1=0.0,\n",
    "                 epochs=1000,\n",
    "                 eta=0.001,\n",
    "                 alpha=0.001,\n",
    "                 decrease_const=0.00001,\n",
    "                 shuffle=True,\n",
    "                 minibatches=50,\n",
    "                 random_state=1)"
   ]
  },
  {
   "cell_type": "code",
   "execution_count": 14,
   "metadata": {},
   "outputs": [
    {
     "name": "stderr",
     "output_type": "stream",
     "text": [
      "rEpoch: 1/1000rEpoch: 2/1000rEpoch: 3/1000rEpoch: 4/1000rEpoch: 5/1000rEpoch: 6/1000rEpoch: 7/1000rEpoch: 8/1000rEpoch: 9/1000rEpoch: 10/1000rEpoch: 11/1000rEpoch: 12/1000rEpoch: 13/1000rEpoch: 14/1000rEpoch: 15/1000rEpoch: 16/1000rEpoch: 17/1000rEpoch: 18/1000rEpoch: 19/1000rEpoch: 20/1000rEpoch: 21/1000rEpoch: 22/1000rEpoch: 23/1000rEpoch: 24/1000rEpoch: 25/1000rEpoch: 26/1000rEpoch: 27/1000rEpoch: 28/1000rEpoch: 29/1000rEpoch: 30/1000rEpoch: 31/1000rEpoch: 32/1000rEpoch: 33/1000rEpoch: 34/1000rEpoch: 35/1000rEpoch: 36/1000rEpoch: 37/1000rEpoch: 38/1000rEpoch: 39/1000rEpoch: 40/1000rEpoch: 41/1000rEpoch: 42/1000rEpoch: 43/1000rEpoch: 44/1000rEpoch: 45/1000rEpoch: 46/1000rEpoch: 47/1000rEpoch: 48/1000rEpoch: 49/1000rEpoch: 50/1000rEpoch: 51/1000rEpoch: 52/1000rEpoch: 53/1000rEpoch: 54/1000rEpoch: 55/1000rEpoch: 56/1000rEpoch: 57/1000rEpoch: 58/1000rEpoch: 59/1000rEpoch: 60/1000rEpoch: 61/1000rEpoch: 62/1000rEpoch: 63/1000rEpoch: 64/1000rEpoch: 65/1000rEpoch: 66/1000rEpoch: 67/1000rEpoch: 68/1000rEpoch: 69/1000rEpoch: 70/1000rEpoch: 71/1000rEpoch: 72/1000rEpoch: 73/1000rEpoch: 74/1000rEpoch: 75/1000rEpoch: 76/1000rEpoch: 77/1000rEpoch: 78/1000rEpoch: 79/1000rEpoch: 80/1000rEpoch: 81/1000rEpoch: 82/1000rEpoch: 83/1000rEpoch: 84/1000rEpoch: 85/1000rEpoch: 86/1000rEpoch: 87/1000rEpoch: 88/1000rEpoch: 89/1000rEpoch: 90/1000rEpoch: 91/1000rEpoch: 92/1000rEpoch: 93/1000rEpoch: 94/1000rEpoch: 95/1000rEpoch: 96/1000rEpoch: 97/1000rEpoch: 98/1000rEpoch: 99/1000rEpoch: 100/1000rEpoch: 101/1000rEpoch: 102/1000rEpoch: 103/1000rEpoch: 104/1000rEpoch: 105/1000rEpoch: 106/1000rEpoch: 107/1000rEpoch: 108/1000rEpoch: 109/1000rEpoch: 110/1000rEpoch: 111/1000rEpoch: 112/1000rEpoch: 113/1000rEpoch: 114/1000rEpoch: 115/1000rEpoch: 116/1000rEpoch: 117/1000rEpoch: 118/1000rEpoch: 119/1000rEpoch: 120/1000rEpoch: 121/1000rEpoch: 122/1000rEpoch: 123/1000rEpoch: 124/1000rEpoch: 125/1000rEpoch: 126/1000rEpoch: 127/1000rEpoch: 128/1000rEpoch: 129/1000rEpoch: 130/1000rEpoch: 131/1000rEpoch: 132/1000rEpoch: 133/1000rEpoch: 134/1000rEpoch: 135/1000rEpoch: 136/1000rEpoch: 137/1000rEpoch: 138/1000rEpoch: 139/1000rEpoch: 140/1000rEpoch: 141/1000rEpoch: 142/1000rEpoch: 143/1000rEpoch: 144/1000rEpoch: 145/1000rEpoch: 146/1000rEpoch: 147/1000rEpoch: 148/1000rEpoch: 149/1000rEpoch: 150/1000rEpoch: 151/1000rEpoch: 152/1000rEpoch: 153/1000rEpoch: 154/1000rEpoch: 155/1000rEpoch: 156/1000rEpoch: 157/1000rEpoch: 158/1000rEpoch: 159/1000rEpoch: 160/1000rEpoch: 161/1000rEpoch: 162/1000rEpoch: 163/1000rEpoch: 164/1000rEpoch: 165/1000rEpoch: 166/1000rEpoch: 167/1000rEpoch: 168/1000rEpoch: 169/1000rEpoch: 170/1000rEpoch: 171/1000rEpoch: 172/1000rEpoch: 173/1000rEpoch: 174/1000rEpoch: 175/1000rEpoch: 176/1000rEpoch: 177/1000rEpoch: 178/1000rEpoch: 179/1000rEpoch: 180/1000rEpoch: 181/1000rEpoch: 182/1000rEpoch: 183/1000rEpoch: 184/1000rEpoch: 185/1000rEpoch: 186/1000rEpoch: 187/1000rEpoch: 188/1000rEpoch: 189/1000rEpoch: 190/1000rEpoch: 191/1000rEpoch: 192/1000rEpoch: 193/1000rEpoch: 194/1000rEpoch: 195/1000rEpoch: 196/1000rEpoch: 197/1000rEpoch: 198/1000rEpoch: 199/1000rEpoch: 200/1000rEpoch: 201/1000rEpoch: 202/1000rEpoch: 203/1000rEpoch: 204/1000rEpoch: 205/1000rEpoch: 206/1000rEpoch: 207/1000rEpoch: 208/1000rEpoch: 209/1000rEpoch: 210/1000rEpoch: 211/1000rEpoch: 212/1000rEpoch: 213/1000rEpoch: 214/1000rEpoch: 215/1000rEpoch: 216/1000rEpoch: 217/1000rEpoch: 218/1000rEpoch: 219/1000rEpoch: 220/1000rEpoch: 221/1000rEpoch: 222/1000rEpoch: 223/1000rEpoch: 224/1000rEpoch: 225/1000rEpoch: 226/1000rEpoch: 227/1000rEpoch: 228/1000rEpoch: 229/1000rEpoch: 230/1000rEpoch: 231/1000rEpoch: 232/1000rEpoch: 233/1000rEpoch: 234/1000rEpoch: 235/1000rEpoch: 236/1000rEpoch: 237/1000rEpoch: 238/1000rEpoch: 239/1000rEpoch: 240/1000rEpoch: 241/1000rEpoch: 242/1000rEpoch: 243/1000rEpoch: 244/1000rEpoch: 245/1000rEpoch: 246/1000rEpoch: 247/1000rEpoch: 248/1000rEpoch: 249/1000rEpoch: 250/1000rEpoch: 251/1000rEpoch: 252/1000rEpoch: 253/1000rEpoch: 254/1000rEpoch: 255/1000rEpoch: 256/1000rEpoch: 257/1000rEpoch: 258/1000rEpoch: 259/1000rEpoch: 260/1000rEpoch: 261/1000rEpoch: 262/1000rEpoch: 263/1000rEpoch: 264/1000rEpoch: 265/1000rEpoch: 266/1000rEpoch: 267/1000rEpoch: 268/1000rEpoch: 269/1000rEpoch: 270/1000rEpoch: 271/1000rEpoch: 272/1000rEpoch: 273/1000rEpoch: 274/1000rEpoch: 275/1000rEpoch: 276/1000rEpoch: 277/1000rEpoch: 278/1000rEpoch: 279/1000rEpoch: 280/1000rEpoch: 281/1000rEpoch: 282/1000rEpoch: 283/1000rEpoch: 284/1000rEpoch: 285/1000rEpoch: 286/1000rEpoch: 287/1000rEpoch: 288/1000rEpoch: 289/1000rEpoch: 290/1000rEpoch: 291/1000rEpoch: 292/1000rEpoch: 293/1000rEpoch: 294/1000rEpoch: 295/1000rEpoch: 296/1000rEpoch: 297/1000rEpoch: 298/1000rEpoch: 299/1000rEpoch: 300/1000rEpoch: 301/1000rEpoch: 302/1000rEpoch: 303/1000rEpoch: 304/1000rEpoch: 305/1000rEpoch: 306/1000rEpoch: 307/1000rEpoch: 308/1000rEpoch: 309/1000rEpoch: 310/1000rEpoch: 311/1000rEpoch: 312/1000rEpoch: 313/1000rEpoch: 314/1000rEpoch: 315/1000rEpoch: 316/1000rEpoch: 317/1000rEpoch: 318/1000rEpoch: 319/1000rEpoch: 320/1000rEpoch: 321/1000rEpoch: 322/1000rEpoch: 323/1000rEpoch: 324/1000rEpoch: 325/1000rEpoch: 326/1000rEpoch: 327/1000rEpoch: 328/1000rEpoch: 329/1000rEpoch: 330/1000rEpoch: 331/1000rEpoch: 332/1000rEpoch: 333/1000rEpoch: 334/1000rEpoch: 335/1000rEpoch: 336/1000rEpoch: 337/1000rEpoch: 338/1000rEpoch: 339/1000rEpoch: 340/1000rEpoch: 341/1000rEpoch: 342/1000rEpoch: 343/1000rEpoch: 344/1000rEpoch: 345/1000rEpoch: 346/1000rEpoch: 347/1000rEpoch: 348/1000rEpoch: 349/1000rEpoch: 350/1000rEpoch: 351/1000rEpoch: 352/1000rEpoch: 353/1000rEpoch: 354/1000rEpoch: 355/1000rEpoch: 356/1000rEpoch: 357/1000rEpoch: 358/1000rEpoch: 359/1000rEpoch: 360/1000rEpoch: 361/1000rEpoch: 362/1000rEpoch: 363/1000rEpoch: 364/1000rEpoch: 365/1000rEpoch: 366/1000rEpoch: 367/1000rEpoch: 368/1000rEpoch: 369/1000rEpoch: 370/1000rEpoch: 371/1000rEpoch: 372/1000rEpoch: 373/1000rEpoch: 374/1000rEpoch: 375/1000rEpoch: 376/1000rEpoch: 377/1000rEpoch: 378/1000rEpoch: 379/1000rEpoch: 380/1000rEpoch: 381/1000rEpoch: 382/1000rEpoch: 383/1000rEpoch: 384/1000rEpoch: 385/1000rEpoch: 386/1000rEpoch: 387/1000rEpoch: 388/1000rEpoch: 389/1000rEpoch: 390/1000rEpoch: 391/1000rEpoch: 392/1000rEpoch: 393/1000rEpoch: 394/1000rEpoch: 395/1000rEpoch: 396/1000rEpoch: 397/1000rEpoch: 398/1000rEpoch: 399/1000rEpoch: 400/1000rEpoch: 401/1000rEpoch: 402/1000rEpoch: 403/1000rEpoch: 404/1000rEpoch: 405/1000rEpoch: 406/1000rEpoch: 407/1000rEpoch: 408/1000rEpoch: 409/1000rEpoch: 410/1000rEpoch: 411/1000rEpoch: 412/1000rEpoch: 413/1000rEpoch: 414/1000rEpoch: 415/1000rEpoch: 416/1000rEpoch: 417/1000rEpoch: 418/1000rEpoch: 419/1000rEpoch: 420/1000rEpoch: 421/1000rEpoch: 422/1000rEpoch: 423/1000rEpoch: 424/1000rEpoch: 425/1000rEpoch: 426/1000rEpoch: 427/1000rEpoch: 428/1000rEpoch: 429/1000rEpoch: 430/1000rEpoch: 431/1000rEpoch: 432/1000rEpoch: 433/1000rEpoch: 434/1000rEpoch: 435/1000rEpoch: 436/1000rEpoch: 437/1000rEpoch: 438/1000rEpoch: 439/1000rEpoch: 440/1000rEpoch: 441/1000rEpoch: 442/1000rEpoch: 443/1000rEpoch: 444/1000rEpoch: 445/1000rEpoch: 446/1000rEpoch: 447/1000rEpoch: 448/1000rEpoch: 449/1000rEpoch: 450/1000rEpoch: 451/1000rEpoch: 452/1000rEpoch: 453/1000rEpoch: 454/1000rEpoch: 455/1000rEpoch: 456/1000rEpoch: 457/1000rEpoch: 458/1000rEpoch: 459/1000rEpoch: 460/1000rEpoch: 461/1000rEpoch: 462/1000rEpoch: 463/1000rEpoch: 464/1000rEpoch: 465/1000rEpoch: 466/1000rEpoch: 467/1000rEpoch: 468/1000rEpoch: 469/1000rEpoch: 470/1000rEpoch: 471/1000rEpoch: 472/1000rEpoch: 473/1000rEpoch: 474/1000rEpoch: 475/1000rEpoch: 476/1000rEpoch: 477/1000rEpoch: 478/1000rEpoch: 479/1000rEpoch: 480/1000rEpoch: 481/1000rEpoch: 482/1000rEpoch: 483/1000rEpoch: 484/1000rEpoch: 485/1000rEpoch: 486/1000rEpoch: 487/1000rEpoch: 488/1000rEpoch: 489/1000rEpoch: 490/1000rEpoch: 491/1000rEpoch: 492/1000rEpoch: 493/1000rEpoch: 494/1000rEpoch: 495/1000rEpoch: 496/1000rEpoch: 497/1000rEpoch: 498/1000rEpoch: 499/1000rEpoch: 500/1000rEpoch: 501/1000rEpoch: 502/1000rEpoch: 503/1000rEpoch: 504/1000rEpoch: 505/1000rEpoch: 506/1000rEpoch: 507/1000rEpoch: 508/1000rEpoch: 509/1000rEpoch: 510/1000rEpoch: 511/1000rEpoch: 512/1000rEpoch: 513/1000rEpoch: 514/1000rEpoch: 515/1000rEpoch: 516/1000rEpoch: 517/1000rEpoch: 518/1000rEpoch: 519/1000"
     ]
    },
    {
     "name": "stderr",
     "output_type": "stream",
     "text": [
      "rEpoch: 520/1000rEpoch: 521/1000rEpoch: 522/1000rEpoch: 523/1000rEpoch: 524/1000rEpoch: 525/1000rEpoch: 526/1000rEpoch: 527/1000rEpoch: 528/1000rEpoch: 529/1000rEpoch: 530/1000rEpoch: 531/1000rEpoch: 532/1000rEpoch: 533/1000rEpoch: 534/1000rEpoch: 535/1000rEpoch: 536/1000rEpoch: 537/1000rEpoch: 538/1000rEpoch: 539/1000rEpoch: 540/1000rEpoch: 541/1000rEpoch: 542/1000rEpoch: 543/1000rEpoch: 544/1000rEpoch: 545/1000rEpoch: 546/1000rEpoch: 547/1000rEpoch: 548/1000rEpoch: 549/1000rEpoch: 550/1000rEpoch: 551/1000rEpoch: 552/1000rEpoch: 553/1000rEpoch: 554/1000rEpoch: 555/1000rEpoch: 556/1000rEpoch: 557/1000rEpoch: 558/1000rEpoch: 559/1000rEpoch: 560/1000rEpoch: 561/1000rEpoch: 562/1000rEpoch: 563/1000rEpoch: 564/1000rEpoch: 565/1000rEpoch: 566/1000rEpoch: 567/1000rEpoch: 568/1000rEpoch: 569/1000rEpoch: 570/1000rEpoch: 571/1000rEpoch: 572/1000rEpoch: 573/1000rEpoch: 574/1000rEpoch: 575/1000rEpoch: 576/1000rEpoch: 577/1000rEpoch: 578/1000rEpoch: 579/1000rEpoch: 580/1000rEpoch: 581/1000rEpoch: 582/1000rEpoch: 583/1000rEpoch: 584/1000rEpoch: 585/1000rEpoch: 586/1000rEpoch: 587/1000rEpoch: 588/1000rEpoch: 589/1000rEpoch: 590/1000rEpoch: 591/1000rEpoch: 592/1000rEpoch: 593/1000rEpoch: 594/1000rEpoch: 595/1000rEpoch: 596/1000rEpoch: 597/1000rEpoch: 598/1000rEpoch: 599/1000rEpoch: 600/1000rEpoch: 601/1000rEpoch: 602/1000rEpoch: 603/1000rEpoch: 604/1000rEpoch: 605/1000rEpoch: 606/1000rEpoch: 607/1000rEpoch: 608/1000rEpoch: 609/1000rEpoch: 610/1000rEpoch: 611/1000rEpoch: 612/1000rEpoch: 613/1000rEpoch: 614/1000rEpoch: 615/1000rEpoch: 616/1000rEpoch: 617/1000rEpoch: 618/1000rEpoch: 619/1000rEpoch: 620/1000rEpoch: 621/1000rEpoch: 622/1000rEpoch: 623/1000rEpoch: 624/1000rEpoch: 625/1000rEpoch: 626/1000rEpoch: 627/1000rEpoch: 628/1000rEpoch: 629/1000rEpoch: 630/1000rEpoch: 631/1000rEpoch: 632/1000rEpoch: 633/1000rEpoch: 634/1000rEpoch: 635/1000rEpoch: 636/1000rEpoch: 637/1000rEpoch: 638/1000rEpoch: 639/1000rEpoch: 640/1000rEpoch: 641/1000rEpoch: 642/1000rEpoch: 643/1000rEpoch: 644/1000rEpoch: 645/1000rEpoch: 646/1000rEpoch: 647/1000rEpoch: 648/1000rEpoch: 649/1000rEpoch: 650/1000rEpoch: 651/1000rEpoch: 652/1000rEpoch: 653/1000rEpoch: 654/1000rEpoch: 655/1000rEpoch: 656/1000rEpoch: 657/1000rEpoch: 658/1000rEpoch: 659/1000rEpoch: 660/1000rEpoch: 661/1000rEpoch: 662/1000rEpoch: 663/1000rEpoch: 664/1000rEpoch: 665/1000rEpoch: 666/1000rEpoch: 667/1000rEpoch: 668/1000rEpoch: 669/1000rEpoch: 670/1000rEpoch: 671/1000rEpoch: 672/1000rEpoch: 673/1000rEpoch: 674/1000rEpoch: 675/1000rEpoch: 676/1000rEpoch: 677/1000rEpoch: 678/1000rEpoch: 679/1000rEpoch: 680/1000rEpoch: 681/1000rEpoch: 682/1000rEpoch: 683/1000rEpoch: 684/1000rEpoch: 685/1000rEpoch: 686/1000rEpoch: 687/1000rEpoch: 688/1000rEpoch: 689/1000rEpoch: 690/1000rEpoch: 691/1000rEpoch: 692/1000rEpoch: 693/1000rEpoch: 694/1000rEpoch: 695/1000rEpoch: 696/1000rEpoch: 697/1000rEpoch: 698/1000rEpoch: 699/1000rEpoch: 700/1000rEpoch: 701/1000rEpoch: 702/1000rEpoch: 703/1000rEpoch: 704/1000rEpoch: 705/1000rEpoch: 706/1000rEpoch: 707/1000rEpoch: 708/1000rEpoch: 709/1000rEpoch: 710/1000rEpoch: 711/1000rEpoch: 712/1000rEpoch: 713/1000rEpoch: 714/1000rEpoch: 715/1000rEpoch: 716/1000rEpoch: 717/1000rEpoch: 718/1000rEpoch: 719/1000rEpoch: 720/1000rEpoch: 721/1000rEpoch: 722/1000rEpoch: 723/1000rEpoch: 724/1000rEpoch: 725/1000rEpoch: 726/1000rEpoch: 727/1000rEpoch: 728/1000rEpoch: 729/1000rEpoch: 730/1000rEpoch: 731/1000rEpoch: 732/1000rEpoch: 733/1000rEpoch: 734/1000rEpoch: 735/1000rEpoch: 736/1000rEpoch: 737/1000rEpoch: 738/1000rEpoch: 739/1000rEpoch: 740/1000rEpoch: 741/1000rEpoch: 742/1000rEpoch: 743/1000rEpoch: 744/1000rEpoch: 745/1000rEpoch: 746/1000rEpoch: 747/1000rEpoch: 748/1000rEpoch: 749/1000rEpoch: 750/1000rEpoch: 751/1000rEpoch: 752/1000rEpoch: 753/1000rEpoch: 754/1000rEpoch: 755/1000rEpoch: 756/1000rEpoch: 757/1000rEpoch: 758/1000rEpoch: 759/1000rEpoch: 760/1000rEpoch: 761/1000rEpoch: 762/1000rEpoch: 763/1000rEpoch: 764/1000rEpoch: 765/1000rEpoch: 766/1000rEpoch: 767/1000rEpoch: 768/1000rEpoch: 769/1000rEpoch: 770/1000rEpoch: 771/1000rEpoch: 772/1000rEpoch: 773/1000rEpoch: 774/1000rEpoch: 775/1000rEpoch: 776/1000rEpoch: 777/1000rEpoch: 778/1000rEpoch: 779/1000rEpoch: 780/1000rEpoch: 781/1000rEpoch: 782/1000rEpoch: 783/1000rEpoch: 784/1000rEpoch: 785/1000rEpoch: 786/1000rEpoch: 787/1000rEpoch: 788/1000rEpoch: 789/1000rEpoch: 790/1000rEpoch: 791/1000rEpoch: 792/1000rEpoch: 793/1000rEpoch: 794/1000rEpoch: 795/1000rEpoch: 796/1000rEpoch: 797/1000rEpoch: 798/1000rEpoch: 799/1000rEpoch: 800/1000rEpoch: 801/1000rEpoch: 802/1000rEpoch: 803/1000rEpoch: 804/1000rEpoch: 805/1000rEpoch: 806/1000rEpoch: 807/1000rEpoch: 808/1000rEpoch: 809/1000rEpoch: 810/1000rEpoch: 811/1000rEpoch: 812/1000rEpoch: 813/1000rEpoch: 814/1000rEpoch: 815/1000rEpoch: 816/1000rEpoch: 817/1000rEpoch: 818/1000rEpoch: 819/1000rEpoch: 820/1000rEpoch: 821/1000rEpoch: 822/1000rEpoch: 823/1000rEpoch: 824/1000rEpoch: 825/1000rEpoch: 826/1000rEpoch: 827/1000rEpoch: 828/1000rEpoch: 829/1000rEpoch: 830/1000rEpoch: 831/1000rEpoch: 832/1000rEpoch: 833/1000rEpoch: 834/1000rEpoch: 835/1000rEpoch: 836/1000rEpoch: 837/1000rEpoch: 838/1000rEpoch: 839/1000rEpoch: 840/1000rEpoch: 841/1000rEpoch: 842/1000rEpoch: 843/1000rEpoch: 844/1000rEpoch: 845/1000rEpoch: 846/1000rEpoch: 847/1000rEpoch: 848/1000rEpoch: 849/1000rEpoch: 850/1000rEpoch: 851/1000rEpoch: 852/1000rEpoch: 853/1000rEpoch: 854/1000rEpoch: 855/1000rEpoch: 856/1000rEpoch: 857/1000rEpoch: 858/1000rEpoch: 859/1000rEpoch: 860/1000rEpoch: 861/1000rEpoch: 862/1000rEpoch: 863/1000rEpoch: 864/1000rEpoch: 865/1000rEpoch: 866/1000rEpoch: 867/1000rEpoch: 868/1000rEpoch: 869/1000rEpoch: 870/1000rEpoch: 871/1000rEpoch: 872/1000rEpoch: 873/1000rEpoch: 874/1000rEpoch: 875/1000rEpoch: 876/1000rEpoch: 877/1000rEpoch: 878/1000rEpoch: 879/1000rEpoch: 880/1000rEpoch: 881/1000rEpoch: 882/1000rEpoch: 883/1000rEpoch: 884/1000rEpoch: 885/1000rEpoch: 886/1000rEpoch: 887/1000rEpoch: 888/1000rEpoch: 889/1000rEpoch: 890/1000rEpoch: 891/1000rEpoch: 892/1000rEpoch: 893/1000rEpoch: 894/1000rEpoch: 895/1000rEpoch: 896/1000rEpoch: 897/1000rEpoch: 898/1000rEpoch: 899/1000rEpoch: 900/1000rEpoch: 901/1000rEpoch: 902/1000rEpoch: 903/1000rEpoch: 904/1000rEpoch: 905/1000rEpoch: 906/1000rEpoch: 907/1000rEpoch: 908/1000rEpoch: 909/1000rEpoch: 910/1000rEpoch: 911/1000rEpoch: 912/1000rEpoch: 913/1000rEpoch: 914/1000rEpoch: 915/1000rEpoch: 916/1000rEpoch: 917/1000rEpoch: 918/1000rEpoch: 919/1000rEpoch: 920/1000rEpoch: 921/1000rEpoch: 922/1000rEpoch: 923/1000rEpoch: 924/1000rEpoch: 925/1000rEpoch: 926/1000rEpoch: 927/1000rEpoch: 928/1000rEpoch: 929/1000rEpoch: 930/1000rEpoch: 931/1000rEpoch: 932/1000rEpoch: 933/1000rEpoch: 934/1000rEpoch: 935/1000rEpoch: 936/1000rEpoch: 937/1000rEpoch: 938/1000rEpoch: 939/1000rEpoch: 940/1000rEpoch: 941/1000rEpoch: 942/1000rEpoch: 943/1000rEpoch: 944/1000rEpoch: 945/1000rEpoch: 946/1000rEpoch: 947/1000rEpoch: 948/1000rEpoch: 949/1000rEpoch: 950/1000rEpoch: 951/1000rEpoch: 952/1000rEpoch: 953/1000rEpoch: 954/1000rEpoch: 955/1000rEpoch: 956/1000rEpoch: 957/1000rEpoch: 958/1000rEpoch: 959/1000rEpoch: 960/1000rEpoch: 961/1000rEpoch: 962/1000rEpoch: 963/1000rEpoch: 964/1000rEpoch: 965/1000rEpoch: 966/1000rEpoch: 967/1000rEpoch: 968/1000rEpoch: 969/1000rEpoch: 970/1000rEpoch: 971/1000rEpoch: 972/1000rEpoch: 973/1000rEpoch: 974/1000rEpoch: 975/1000rEpoch: 976/1000rEpoch: 977/1000rEpoch: 978/1000rEpoch: 979/1000rEpoch: 980/1000rEpoch: 981/1000rEpoch: 982/1000rEpoch: 983/1000rEpoch: 984/1000rEpoch: 985/1000rEpoch: 986/1000rEpoch: 987/1000rEpoch: 988/1000rEpoch: 989/1000rEpoch: 990/1000rEpoch: 991/1000rEpoch: 992/1000rEpoch: 993/1000rEpoch: 994/1000rEpoch: 995/1000rEpoch: 996/1000rEpoch: 997/1000rEpoch: 998/1000rEpoch: 999/1000rEpoch: 1000/1000"
     ]
    },
    {
     "data": {
      "text/plain": [
       "<__main__.NeuralNetMLP at 0x11ac3a3c8>"
      ]
     },
     "execution_count": 14,
     "metadata": {},
     "output_type": "execute_result"
    }
   ],
   "source": [
    "nn.fit(X_train, y_train, print_progress=True)"
   ]
  },
  {
   "cell_type": "code",
   "execution_count": 15,
   "metadata": {},
   "outputs": [
    {
     "data": {
      "image/png": "[encoded data removed]",
      "text/plain": [
       "<matplotlib.figure.Figure at 0x11ac3ab38>"
      ]
     },
     "metadata": {},
     "output_type": "display_data"
    }
   ],
   "source": [
    "plt.plot(range(len(nn.cost_)), nn.cost_)\n",
    "plt.ylim([0, 2000])\n",
    "plt.ylabel('Cost')\n",
    "plt.xlabel('Epochs * 50')\n",
    "plt.tight_layout()\n",
    "plt.show()"
   ]
  },
  {
   "cell_type": "code",
   "execution_count": 16,
   "metadata": {},
   "outputs": [
    {
     "data": {
      "image/png": "[encoded data removed]",
      "text/plain": [
       "<matplotlib.figure.Figure at 0x11ac3a048>"
      ]
     },
     "metadata": {},
     "output_type": "display_data"
    }
   ],
   "source": [
    "batches = np.array_split(range(len(nn.cost_)), 1000)\n",
    "cost_ary = np.array(nn.cost_)\n",
    "cost_avgs = [np.mean(cost_ary[i]) for i in batches]\n",
    "\n",
    "plt.plot(range(len(cost_avgs)), cost_avgs)\n",
    "plt.ylim([0, 2000])\n",
    "plt.ylabel('Cost')\n",
    "plt.xlabel('Epochs')\n",
    "plt.tight_layout()\n",
    "plt.show()"
   ]
  },
  {
   "cell_type": "code",
   "execution_count": 17,
   "metadata": {},
   "outputs": [
    {
     "name": "stdout",
     "output_type": "stream",
     "text": [
      "Training accuracy: 97.50%\n"
     ]
    }
   ],
   "source": [
    "y_train_pred = nn.predict(X_train)\n",
    "acc = np.sum(y_train == y_train_pred, axis=0) / X_train.shape[0]\n",
    "print('Training accuracy: %.2f%%' % (acc * 100))"
   ]
  },
  {
   "cell_type": "code",
   "execution_count": 20,
   "metadata": {},
   "outputs": [
    {
     "name": "stdout",
     "output_type": "stream",
     "text": [
      "Test accuracy: 95.74%\n"
     ]
    }
   ],
   "source": [
    "y_test_pred = nn.predict(X_test)\n",
    "acc = np.sum(y_test == y_test_pred, axis=0) / X_test.shape[0]\n",
    "print('Test accuracy: %.2f%%' % (acc * 100))"
   ]
  },
  {
   "cell_type": "code",
   "execution_count": 21,
   "metadata": {},
   "outputs": [
    {
     "data": {
      "image/png": "[encoded data removed]",
      "text/plain": [
       "<matplotlib.figure.Figure at 0x10fd58908>"
      ]
     },
     "metadata": {},
     "output_type": "display_data"
    }
   ],
   "source": [
    "miscl_img = X_test[y_test != y_test_pred][:25]\n",
    "correct_lab = y_test[y_test != y_test_pred][:25]\n",
    "miscl_lab = y_test_pred[y_test != y_test_pred][:25]\n",
    "\n",
    "fig, ax = plt.subplots(nrows=5,\n",
    "                      ncols=5,\n",
    "                      sharex=True,\n",
    "                      sharey=True)\n",
    "ax = ax.flatten()\n",
    "for i in range(25):\n",
    "    img = miscl_img[i].reshape(28,28)\n",
    "    ax[i].imshow(img, cmap='Greys', interpolation='nearest')\n",
    "    ax[i].set_title('%d) t: %d p: %d' %\n",
    "                   (i+1, correct_lab[i], miscl_lab[i]))\n",
    "ax[0].set_xticks([])\n",
    "ax[0].set_yticks([])\n",
    "plt.tight_layout()\n",
    "plt.show()"
   ]
  },
  {
   "cell_type": "code",
   "execution_count": null,
   "metadata": {},
   "outputs": [],
   "source": []
  },
  {
   "cell_type": "code",
   "execution_count": 25,
   "metadata": {},
   "outputs": [],
   "source": [
    "# Part three. Debugging NN with gradient checking\n",
    "\n",
    "import numpy as np\n",
    "from scipy.special import expit\n",
    "import sys\n",
    "\n",
    "class MLPGradientCheck(object):\n",
    "    def __init__(self, n_output, n_features, n_hidden=30,\n",
    "                l1=0.0, l2=0.0, epochs=500, eta=0.001,\n",
    "                alpha=0.0, decrease_const=0.0, shuffle=True,\n",
    "                minibatches=1, random_state=None):\n",
    "        np.random.seed(random_state)\n",
    "        self.n_output = n_output\n",
    "        self.n_features = n_features\n",
    "        self.n_hidden = n_hidden\n",
    "        self.w1, self.w2 = self._initialize_weights()\n",
    "        self.l1 = l1\n",
    "        self.l2 = l2\n",
    "        self.epochs = epochs\n",
    "        self.eta = eta\n",
    "        self.alpha = alpha\n",
    "        self.decrease_const = decrease_const\n",
    "        self.shuffle = shuffle\n",
    "        self.minibatches = minibatches\n",
    "        \n",
    "    def _encode_labels(self, y, k):\n",
    "        onehot = np.zeros((k, y.shape[0]))\n",
    "        for idx, val in enumerate(y):\n",
    "            onehot[val, idx] = 1.0\n",
    "        return onehot\n",
    "    \n",
    "    def _initialize_weights(self):\n",
    "        w1 = np.random.uniform(-1.0, 1.0,\n",
    "                              size=self.n_hidden*(self.n_features + 1))\n",
    "        w1 = w1.reshape(self.n_hidden, self.n_features + 1)\n",
    "        w2 = np.random.uniform(-1.0, 1.0,\n",
    "                              size=self.n_output*(self.n_hidden + 1))\n",
    "        w2 = w2.reshape(self.n_output, self.n_hidden + 1)\n",
    "        return w1, w2\n",
    "    \n",
    "    def _sigmoid(self, z):\n",
    "        # expit is equivalent to 1.0/(1.0 + np.exp(-z))\n",
    "        return expit(z)\n",
    "    \n",
    "    def _sigmoid_gradient(self, z):\n",
    "        sg = self._sigmoid(z)\n",
    "        return sg * (1 - sg)\n",
    "    \n",
    "    def _add_bias_unit(self, X, how='column'):\n",
    "        if how == 'column':\n",
    "            X_new = np.ones((X.shape[0], X.shape[1]+1))\n",
    "            X_new[:, 1:] = X\n",
    "        elif how == 'row':\n",
    "            X_new = np.ones((X.shape[0]+1, X.shape[1]))\n",
    "            X_new[1:, :] = X\n",
    "        else:\n",
    "            raise AttributeError('`how` must `column` or `row`')\n",
    "        return X_new\n",
    "    \n",
    "    def _feedforward(self, X, w1, w2):\n",
    "        a1 = self._add_bias_unit(X, how='column')\n",
    "        z2 = w1.dot(a1.T)\n",
    "        a2 = self._sigmoid(z2)\n",
    "        a2 = self._add_bias_unit(a2, how='row')\n",
    "        z3 = w2.dot(a2)\n",
    "        a3 = self._sigmoid(z3)\n",
    "        return a1, z2, a2, z3, a3\n",
    "    \n",
    "    def _L2_reg(self, lambda_, w1, w2):\n",
    "        return (lambda_/2.0) * (np.sum(w1[:, 1:] ** 2) + np.sum(w2[:, 1:] ** 2))\n",
    "    \n",
    "    def _L1_reg(self, lambda_, w1, w2):\n",
    "        return (lambda_/2.0) * (np.abs(w1[:, 1:]).sum() + np.abs(w2[:, 1:]).sum())\n",
    "    \n",
    "    def _get_cost(self, y_enc, output, w1, w2):\n",
    "        term1 = -y_enc * (np.log(output))\n",
    "        term2 = (1 - y_enc) * np.log(1 - output)\n",
    "        cost = np.sum(term1 - term2)\n",
    "        L1_term = self._L1_reg(self.l1, w1, w2)\n",
    "        L2_term = self._L2_reg(self.l2, w1, w2)\n",
    "        cost = cost + L1_term + L2_term\n",
    "        return cost\n",
    "    \n",
    "    def _get_gradient(self, a1, a2, a3, z2, y_enc, w1, w2):\n",
    "        # backpropagation\n",
    "        sigma3 = a3 - y_enc\n",
    "        z2 = self._add_bias_unit(z2, how='row')\n",
    "        sigma2 = w2.T.dot(sigma3) * self._sigmoid_gradient(z2)\n",
    "        sigma2 = sigma2[1:, :]\n",
    "        grad1 = sigma2.dot(a1)\n",
    "        grad2 = sigma3.dot(a2.T)\n",
    "        \n",
    "        # regularise\n",
    "        grad1[:, 1:] += (w1[:, 1:] * (self.l1 + self.l2))\n",
    "        grad2[:, 1:] += (w2[:, 1:] * (self.l1 + self.l2))\n",
    "        \n",
    "        return grad1, grad2\n",
    "    \n",
    "    def predict(self, X):\n",
    "        a1, z2, a2, z3, a3 = self._feedforward(X, self.w1, self.w2)\n",
    "        y_pred = np.argmax(z3, axis=0)\n",
    "        return y_pred\n",
    "    \n",
    "    def fit(self, X, y, print_progress=False):\n",
    "        self.cost_ = []\n",
    "        X_data, y_data = X.copy(), y.copy()\n",
    "        y_enc = self._encode_labels(y, self.n_output)\n",
    "        \n",
    "        delta_w1_prev = np.zeros(self.w1.shape)\n",
    "        delta_w2_prev = np.zeros(self.w2.shape)\n",
    "        \n",
    "        for i in range(self.epochs):\n",
    "            # adaptive learning rate\n",
    "            self.eta /= (1 + self.decrease_const*i)\n",
    "            \n",
    "            if print_progress:\n",
    "                sys.stderr.write('rEpoch: %d/%d' %\n",
    "                                (i+1, self.epochs))\n",
    "                sys.stderr.flush()\n",
    "            \n",
    "            if self.shuffle:\n",
    "                idx = np.random.permutation(y_data.shape[0])\n",
    "                X_data, y_data = X_data[idx], y_data[idx]\n",
    "                \n",
    "            mini = np.array_split(range(y_data.shape[0]),\n",
    "                                 self.minibatches)\n",
    "            for idx in mini:\n",
    "                # feedforward\n",
    "                a1, z2, a2, z3, a3 = self._feedforward(\n",
    "                                    X[idx], self.w1, self.w2)\n",
    "                cost = self._get_cost(y_enc=y_enc[:, idx],\n",
    "                                     output=a3,\n",
    "                                     w1=self.w1,\n",
    "                                     w2=self.w2)\n",
    "                self.cost_.append(cost)\n",
    "                \n",
    "                # compute gradient via backpropagation\n",
    "                grad1, grad2 = self._get_gradient(a1=a1, a2=a2,\n",
    "                                                 a3=a3, z2=z2,\n",
    "                                                 y_enc=y_enc[:, idx],\n",
    "                                                 w1=self.w1,\n",
    "                                                 w2=self.w2)\n",
    "                \n",
    "                ## start gradient checking\n",
    "                grad_diff = self._gradient_cheking(X=X[idx],\n",
    "                                                  y_enc=y_enc[:,idx],\n",
    "                                                  w1=self.w1,\n",
    "                                                  w2=self.w2,\n",
    "                                                  epsilon=1e-5,\n",
    "                                                  grad1=grad1,\n",
    "                                                  grad2=grad2)\n",
    "                if grad_diff <= 1e-7:\n",
    "                    print('Ok: %s' % grad_diff)\n",
    "                elif grad_diff <= 1e-4:\n",
    "                    print('Warning: %s' % grad_diff)\n",
    "                else:\n",
    "                    print('PROBLEM: %s' % grad_diff)\n",
    "                    \n",
    "                ## end gradient checking\n",
    "                \n",
    "                # update weights; [alpha * delta_w_prev]\n",
    "                # for momentum learning\n",
    "                delta_w1, delta_w2 = self.eta * grad1, self.eta * grad2\n",
    "                self.w1 -= (delta_w1 + (self.alpha * delta_w1_prev))\n",
    "                self.w2 -= (delta_w2 + (self.alpha * delta_w2_prev))\n",
    "                delta_w1_prev, delta_w2_prev = delta_w1, delta_w2\n",
    "                \n",
    "        return self\n",
    "    \n",
    "    def _gradient_cheking(self, X, y_enc, w1, w2,\n",
    "                         epsilon, grad1, grad2):\n",
    "        \"\"\"  Apply gradient cheking (for debugging only)\n",
    "        \n",
    "        Returns\n",
    "        ----------\n",
    "        relative_error : float\n",
    "            Relative error between the numerically approximated\n",
    "            gradients and the backpropagation gradients\"\"\"\n",
    "        num_grad1 = np.zeros(np.shape(w1))\n",
    "        epsilon_ary1 = np.zeros(np.shape(w1))\n",
    "        for i in range(w1.shape[0]):\n",
    "            for j in range(w1.shape[1]):\n",
    "                epsilon_ary1[i, j] = epsilon\n",
    "                a1, z2, a2, z3, a3 = self._feedforward(X,\n",
    "                                                      w1 - epsilon_ary1,\n",
    "                                                      w2)\n",
    "                cost1 = self._get_cost(y_enc,\n",
    "                                      a3,\n",
    "                                      w1-epsilon_ary1,\n",
    "                                      w2)\n",
    "                a1, z2, a2, z3, a3 = self._feedforward(X,\n",
    "                                                      w1 + epsilon_ary1,\n",
    "                                                      w2)\n",
    "                cost2 = self._get_cost(y_enc,\n",
    "                                      a3,\n",
    "                                      w1 + epsilon_ary1,\n",
    "                                      w2)\n",
    "                num_grad1[i, j] = (cost2 - cost1) / (2 * epsilon)\n",
    "                epsilon_ary1[i, j] = 0\n",
    "        \n",
    "        num_grad2 = np.zeros(np.shape(w2))\n",
    "        epsilon_ary2 = np.zeros(np.shape(w2))\n",
    "        for i in range(w2.shape[0]):\n",
    "            for j in range(w2.shape[1]):\n",
    "                epsilon_ary2[i, j] = epsilon\n",
    "                a1, z2, a2, z3, a3 = self._feedforward(X,\n",
    "                                                      w1,\n",
    "                                                      w2 - epsilon_ary2)\n",
    "                cost1 = self._get_cost(y_enc,\n",
    "                                      a3,\n",
    "                                      w1,\n",
    "                                      w2 - epsilon_ary2)\n",
    "                a1, z2, a2, z3, a3 = self._feedforward(X,\n",
    "                                                      w1,\n",
    "                                                      w2 + epsilon_ary2)\n",
    "                cost2 = self._get_cost(y_enc,\n",
    "                                      a3,\n",
    "                                      w1,\n",
    "                                      w2 + epsilon_ary2)\n",
    "                num_grad2[i, j] = (cost2 - cost1) / (2 * epsilon)\n",
    "                epsilon_ary2[i, j] = 0\n",
    "                \n",
    "        num_grad = np.hstack((num_grad1.flatten(),\n",
    "                             num_grad2.flatten()))\n",
    "        grad = np.hstack((grad1.flatten(), grad2.flatten()))\n",
    "        norm1 = np.linalg.norm(num_grad - grad)\n",
    "        norm2 = np.linalg.norm(num_grad)\n",
    "        norm3 = np.linalg.norm(grad)\n",
    "        relative_error = norm1 / (norm2 + norm3)\n",
    "        return relative_error"
   ]
  },
  {
   "cell_type": "code",
   "execution_count": 26,
   "metadata": {},
   "outputs": [],
   "source": [
    "nn_check = MLPGradientCheck(n_output=10,\n",
    "                           n_features=X_train.shape[1],\n",
    "                           n_hidden=10,\n",
    "                           l2=0.0,\n",
    "                           l1=0.0,\n",
    "                           epochs=10,\n",
    "                           eta=0.001,\n",
    "                           alpha=0.0,\n",
    "                           decrease_const=0.0,\n",
    "                           minibatches=1,\n",
    "                           random_state=1)"
   ]
  },
  {
   "cell_type": "code",
   "execution_count": 27,
   "metadata": {},
   "outputs": [
    {
     "name": "stdout",
     "output_type": "stream",
     "text": [
      "Ok: 2.5816196414541353e-10\n",
      "Ok: 2.967773837059003e-10\n",
      "Ok: 2.4302453468160106e-10\n",
      "Ok: 3.1475542688336147e-10\n",
      "Ok: 3.3953016129731787e-10\n",
      "Ok: 3.621569038183785e-10\n",
      "Ok: 2.2031062115345912e-10\n",
      "Ok: 2.3284319578022365e-10\n",
      "Ok: 3.233208819142819e-10\n",
      "Ok: 2.1746606465132142e-10\n"
     ]
    },
    {
     "data": {
      "text/plain": [
       "<__main__.MLPGradientCheck at 0x11a5c5160>"
      ]
     },
     "execution_count": 27,
     "metadata": {},
     "output_type": "execute_result"
    }
   ],
   "source": [
    "nn_check.fit(X_train[:5], y_train[:5], print_progress=False)"
   ]
  },
  {
   "cell_type": "code",
   "execution_count": null,
   "metadata": {},
   "outputs": [],
   "source": []
  }
 ],
 "metadata": {
  "kernelspec": {
   "display_name": "Python 3",
   "language": "python",
   "name": "python3"
  },
  "language_info": {
   "codemirror_mode": {
    "name": "ipython",
    "version": 3
   },
   "file_extension": ".py",
   "mimetype": "text/x-python",
   "name": "python",
   "nbconvert_exporter": "python",
   "pygments_lexer": "ipython3",
   "version": "3.6.4"
  }
 },
 "nbformat": 4,
 "nbformat_minor": 2
}
